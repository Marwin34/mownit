{
 "cells": [
  {
   "cell_type": "code",
   "execution_count": 24,
   "metadata": {},
   "outputs": [
    {
     "data": {
      "text/plain": [
       "1000-element Array{Float64,1}:\n",
       " 234.43807851349695\n",
       " 234.80149508110892\n",
       " 235.9712140053221 \n",
       " 243.7969531498147 \n",
       " 239.79342233216502\n",
       " 238.44359380042474\n",
       " 238.5016371566039 \n",
       " 232.8906504233929 \n",
       " 235.74756405515822\n",
       " 237.52789835300447\n",
       " 237.00133064938473\n",
       " 232.4362310066665 \n",
       " 229.2992944883824 \n",
       "   ⋮               \n",
       " 238.83446281910028\n",
       " 234.0276684884246 \n",
       " 234.9289776221397 \n",
       " 245.45758729081942\n",
       " 240.11246325089897\n",
       " 232.16749096583902\n",
       " 230.1103687691216 \n",
       " 232.5448032486356 \n",
       " 241.8143376760524 \n",
       " 231.97699451266416\n",
       " 235.1153399977224 \n",
       " 238.88611298140657"
      ]
     },
     "execution_count": 24,
     "metadata": {},
     "output_type": "execute_result"
    }
   ],
   "source": [
    "using LinearAlgebra\n",
    "\n",
    "x=rand(1000)\n",
    "A=rand(1000,1000)\n",
    "b=A*x"
   ]
  },
  {
   "cell_type": "code",
   "execution_count": 25,
   "metadata": {},
   "outputs": [
    {
     "name": "stdout",
     "output_type": "stream",
     "text": [
      "  0.567209 seconds (948.89 k allocations: 54.190 MiB, 15.34% gc time)\n"
     ]
    },
    {
     "data": {
      "text/plain": [
       "1000-element Array{Float64,1}:\n",
       " 0.16523754150608738\n",
       " 0.42209356323959213\n",
       " 0.33284426718817883\n",
       " 0.7839691608480468 \n",
       " 0.4675304794329662 \n",
       " 0.9568251761420505 \n",
       " 0.28320200724871114\n",
       " 0.47062097287394167\n",
       " 0.7653665851609333 \n",
       " 0.13408009626903095\n",
       " 0.7798311929733259 \n",
       " 0.5732453212322852 \n",
       " 0.5367669433543334 \n",
       " ⋮                  \n",
       " 0.0692890298689477 \n",
       " 0.2648797499756057 \n",
       " 0.24714527668841413\n",
       " 0.6564877117997128 \n",
       " 0.21042889429124756\n",
       " 0.39432431382284605\n",
       " 0.21371141404854832\n",
       " 0.16087380221267011\n",
       " 0.09964164977235868\n",
       " 0.7615062125647682 \n",
       " 0.06778031110903271\n",
       " 0.7311320621312216 "
      ]
     },
     "execution_count": 25,
     "metadata": {},
     "output_type": "execute_result"
    }
   ],
   "source": [
    "@time inv(A)*b\n"
   ]
  },
  {
   "cell_type": "code",
   "execution_count": 26,
   "metadata": {},
   "outputs": [
    {
     "name": "stdout",
     "output_type": "stream",
     "text": [
      "  1.460729 seconds (2.75 M allocations: 138.094 MiB, 8.60% gc time)\n"
     ]
    },
    {
     "data": {
      "text/plain": [
       "1000-element Array{Float64,1}:\n",
       " 0.16523754150700667\n",
       " 0.42209356323619796\n",
       " 0.3328442671907725 \n",
       " 0.7839691608471551 \n",
       " 0.46753047943258375\n",
       " 0.9568251761409394 \n",
       " 0.2832020072487361 \n",
       " 0.4706209728748451 \n",
       " 0.7653665851627813 \n",
       " 0.13408009626988093\n",
       " 0.7798311929728874 \n",
       " 0.5732453212327198 \n",
       " 0.5367669433558059 \n",
       " ⋮                  \n",
       " 0.06928902986934495\n",
       " 0.26487974997254893\n",
       " 0.24714527668859512\n",
       " 0.6564877117997661 \n",
       " 0.21042889428953807\n",
       " 0.3943243138214317 \n",
       " 0.21371141405020616\n",
       " 0.16087380221390543\n",
       " 0.09964164977202565\n",
       " 0.7615062125645495 \n",
       " 0.06778031110871846\n",
       " 0.7311320621314532 "
      ]
     },
     "execution_count": 26,
     "metadata": {},
     "output_type": "execute_result"
    }
   ],
   "source": [
    "@time A\\b"
   ]
  },
  {
   "cell_type": "code",
   "execution_count": 27,
   "metadata": {},
   "outputs": [
    {
     "data": {
      "text/plain": [
       "LU{Float64,Array{Float64,2}}\n",
       "L factor:\n",
       "1000×1000 Array{Float64,2}:\n",
       " 1.0          0.0          0.0          …   0.0        0.0       0.0\n",
       " 0.00980081   1.0          0.0              0.0        0.0       0.0\n",
       " 0.0237377    0.00902936   1.0              0.0        0.0       0.0\n",
       " 0.936465    -0.775361    -0.407133         0.0        0.0       0.0\n",
       " 0.331287    -0.311726     0.445324         0.0        0.0       0.0\n",
       " 0.452777     0.539117    -0.263531     …   0.0        0.0       0.0\n",
       " 0.982588    -0.867559     0.401531         0.0        0.0       0.0\n",
       " 0.248815     0.584404     0.000544304      0.0        0.0       0.0\n",
       " 0.0444214    0.0852703    0.943808         0.0        0.0       0.0\n",
       " 0.924597    -0.29915     -0.581601         0.0        0.0       0.0\n",
       " 0.66615     -0.615927    -0.0498667    …   0.0        0.0       0.0\n",
       " 0.138713     0.0899056   -0.0969944        0.0        0.0       0.0\n",
       " 0.630392    -0.436881     0.73169          0.0        0.0       0.0\n",
       " ⋮                                      ⋱                           \n",
       " 0.512884     0.0481613    0.340992         0.0        0.0       0.0\n",
       " 0.520309     0.388991    -0.0200052        0.0        0.0       0.0\n",
       " 0.70159     -0.0619619    0.313526     …   0.0        0.0       0.0\n",
       " 0.331671     0.404751    -0.377447         0.0        0.0       0.0\n",
       " 0.0749286    0.682403     0.242944         0.0        0.0       0.0\n",
       " 0.959073    -0.733178     0.400166         0.0        0.0       0.0\n",
       " 0.657687    -0.268462     0.176185         0.0        0.0       0.0\n",
       " 0.662389    -0.461896    -0.294051     …   0.0        0.0       0.0\n",
       " 0.477548    -0.445291     0.523189         0.0        0.0       0.0\n",
       " 0.255044     0.375894    -0.123363         1.0        0.0       0.0\n",
       " 0.830522    -0.781819     0.187564         0.739437   1.0       0.0\n",
       " 0.0574052    0.0809273   -0.0929316       -0.0369744  0.864984  1.0\n",
       "U factor:\n",
       "1000×1000 Array{Float64,2}:\n",
       " 0.998329  0.986651  0.853397  0.478553  …   0.831424    0.226099    0.512265\n",
       " 0.0       0.953554  0.520518  0.55823       0.948018    0.711854    0.556182\n",
       " 0.0       0.0       0.940434  0.77664       0.896268    0.365709    0.12499 \n",
       " 0.0       0.0       0.0       1.20742       0.474711    0.879737    0.146275\n",
       " 0.0       0.0       0.0       0.0          -0.201197   -0.294131    0.728469\n",
       " 0.0       0.0       0.0       0.0       …  -0.732633   -0.491995   -0.228402\n",
       " 0.0       0.0       0.0       0.0           0.837893    1.12618    -0.117577\n",
       " 0.0       0.0       0.0       0.0          -0.0614927   0.193173    0.238128\n",
       " 0.0       0.0       0.0       0.0          -0.0999923   0.491701   -0.100692\n",
       " 0.0       0.0       0.0       0.0           0.579297    0.47757     0.661504\n",
       " 0.0       0.0       0.0       0.0       …   0.562808    0.304239    0.768269\n",
       " 0.0       0.0       0.0       0.0           0.060853    0.869166   -0.489256\n",
       " 0.0       0.0       0.0       0.0          -0.710562    0.105978    0.854974\n",
       " ⋮                                       ⋱                                   \n",
       " 0.0       0.0       0.0       0.0           2.29571    -3.68905    -4.3412  \n",
       " 0.0       0.0       0.0       0.0           0.24755     2.20318     3.93753 \n",
       " 0.0       0.0       0.0       0.0       …  -0.723238    0.914083    3.53019 \n",
       " 0.0       0.0       0.0       0.0           2.74874     4.30763     2.55317 \n",
       " 0.0       0.0       0.0       0.0           3.44219     5.21105     7.39759 \n",
       " 0.0       0.0       0.0       0.0          -6.0278      0.594826    0.601771\n",
       " 0.0       0.0       0.0       0.0          -0.536286   -4.62939    -2.63276 \n",
       " 0.0       0.0       0.0       0.0       …  -2.20949     5.75349     4.78918 \n",
       " 0.0       0.0       0.0       0.0           1.05521     0.801794   -2.74337 \n",
       " 0.0       0.0       0.0       0.0          -3.95502    -5.20206    -2.67872 \n",
       " 0.0       0.0       0.0       0.0           0.0         4.94428     6.06539 \n",
       " 0.0       0.0       0.0       0.0           0.0         0.0       -12.0316  "
      ]
     },
     "execution_count": 27,
     "metadata": {},
     "output_type": "execute_result"
    }
   ],
   "source": [
    "Af=factorize(A)"
   ]
  },
  {
   "cell_type": "code",
   "execution_count": 28,
   "metadata": {},
   "outputs": [
    {
     "name": "stdout",
     "output_type": "stream",
     "text": [
      "  0.034537 seconds (915 allocations: 7.701 MiB)\n"
     ]
    },
    {
     "data": {
      "text/plain": [
       "1000-element Array{Float64,1}:\n",
       " 0.16523754150700667\n",
       " 0.42209356323619796\n",
       " 0.3328442671907725 \n",
       " 0.7839691608471551 \n",
       " 0.46753047943258375\n",
       " 0.9568251761409394 \n",
       " 0.2832020072487361 \n",
       " 0.4706209728748451 \n",
       " 0.7653665851627813 \n",
       " 0.13408009626988093\n",
       " 0.7798311929728874 \n",
       " 0.5732453212327198 \n",
       " 0.5367669433558059 \n",
       " ⋮                  \n",
       " 0.06928902986934495\n",
       " 0.26487974997254893\n",
       " 0.24714527668859512\n",
       " 0.6564877117997661 \n",
       " 0.21042889428953807\n",
       " 0.3943243138214317 \n",
       " 0.21371141405020616\n",
       " 0.16087380221390543\n",
       " 0.09964164977202565\n",
       " 0.7615062125645495 \n",
       " 0.06778031110871846\n",
       " 0.7311320621314532 "
      ]
     },
     "execution_count": 28,
     "metadata": {},
     "output_type": "execute_result"
    }
   ],
   "source": [
    "function ul_solve(A, b)\n",
    "    Af=factorize(A)\n",
    "    return Af\\b\n",
    "end\n",
    "\n",
    "@time ul_solve(A, b)"
   ]
  },
  {
   "cell_type": "code",
   "execution_count": 29,
   "metadata": {},
   "outputs": [
    {
     "name": "stdout",
     "output_type": "stream",
     "text": [
      "  0.155000 seconds (11 allocations: 8.134 MiB)\n",
      "  0.239386 seconds (9 allocations: 7.645 MiB, 91.41% gc time)\n",
      "  0.059356 seconds (9 allocations: 7.645 MiB)\n"
     ]
    },
    {
     "data": {
      "text/plain": [
       "1000-element Array{Float64,1}:\n",
       " 0.16523754150700667\n",
       " 0.42209356323619796\n",
       " 0.3328442671907725 \n",
       " 0.7839691608471551 \n",
       " 0.46753047943258375\n",
       " 0.9568251761409394 \n",
       " 0.2832020072487361 \n",
       " 0.4706209728748451 \n",
       " 0.7653665851627813 \n",
       " 0.13408009626988093\n",
       " 0.7798311929728874 \n",
       " 0.5732453212327198 \n",
       " 0.5367669433558059 \n",
       " ⋮                  \n",
       " 0.06928902986934495\n",
       " 0.26487974997254893\n",
       " 0.24714527668859512\n",
       " 0.6564877117997661 \n",
       " 0.21042889428953807\n",
       " 0.3943243138214317 \n",
       " 0.21371141405020616\n",
       " 0.16087380221390543\n",
       " 0.09964164977202565\n",
       " 0.7615062125645495 \n",
       " 0.06778031110871846\n",
       " 0.7311320621314532 "
      ]
     },
     "execution_count": 29,
     "metadata": {},
     "output_type": "execute_result"
    }
   ],
   "source": [
    "v1 = @time inv(A)*b\n",
    "v2 = @time A\\b\n",
    "v3 = @time factorize(A)\\b"
   ]
  },
  {
   "cell_type": "code",
   "execution_count": 30,
   "metadata": {},
   "outputs": [
    {
     "data": {
      "text/plain": [
       "1.7408297026122455e-13"
      ]
     },
     "execution_count": 30,
     "metadata": {},
     "output_type": "execute_result"
    }
   ],
   "source": [
    "abs(norm(v1) - norm(x))"
   ]
  },
  {
   "cell_type": "code",
   "execution_count": 31,
   "metadata": {},
   "outputs": [
    {
     "data": {
      "text/plain": [
       "2.4868995751603507e-14"
      ]
     },
     "execution_count": 31,
     "metadata": {},
     "output_type": "execute_result"
    }
   ],
   "source": [
    "abs(norm(v2) - norm(x))"
   ]
  },
  {
   "cell_type": "code",
   "execution_count": 32,
   "metadata": {},
   "outputs": [
    {
     "data": {
      "text/plain": [
       "2.4868995751603507e-14"
      ]
     },
     "execution_count": 32,
     "metadata": {},
     "output_type": "execute_result"
    }
   ],
   "source": [
    "abs(norm(v3) - norm(x))"
   ]
  },
  {
   "cell_type": "code",
   "execution_count": 33,
   "metadata": {},
   "outputs": [
    {
     "name": "stdout",
     "output_type": "stream",
     "text": [
      "Poly(0.0030567402386081455 - 7.451374235460676e-5*x + 3.325210510766445e-7*x^2 + 4.490785309334662e-9*x^3)\n"
     ]
    }
   ],
   "source": [
    "using CSV\n",
    "using DataFrames\n",
    "using Statistics\n",
    "using Polynomials\n",
    "\n",
    "input=\"data_lab3.csv\"\n",
    "data=CSV.read(input, delim=\",\")\n",
    "\n",
    "data2 = by(data, :size,  df->DataFrame(\n",
    "        naive_times_mean=mean(df[:naive_time]), naive_times_std=std(df[:naive_time]),\n",
    "        better_times_mean=mean(df[:better_time]), better_times_std=std(df[:better_time]), \n",
    "        blas_times_mean=mean(df[:blas_time]), blas_times_std=std(df[:blas_time])\n",
    "        ))\n",
    "\n",
    "naive_fit_c=polyfit(data2[:size], data2[:naive_times_mean], 3)\n",
    "\n",
    "println(naive_fit_c)"
   ]
  },
  {
   "cell_type": "code",
   "execution_count": 34,
   "metadata": {},
   "outputs": [
    {
     "data": {
      "text/plain": [
       "15×4 Array{Float64,2}:\n",
       " 0.0  0.0  0.0  0.0\n",
       " 0.0  0.0  0.0  0.0\n",
       " 0.0  0.0  0.0  0.0\n",
       " 0.0  0.0  0.0  0.0\n",
       " 0.0  0.0  0.0  0.0\n",
       " 0.0  0.0  0.0  0.0\n",
       " 0.0  0.0  0.0  0.0\n",
       " 0.0  0.0  0.0  0.0\n",
       " 0.0  0.0  0.0  0.0\n",
       " 0.0  0.0  0.0  0.0\n",
       " 0.0  0.0  0.0  0.0\n",
       " 0.0  0.0  0.0  0.0\n",
       " 0.0  0.0  0.0  0.0\n",
       " 0.0  0.0  0.0  0.0\n",
       " 0.0  0.0  0.0  0.0"
      ]
     },
     "execution_count": 34,
     "metadata": {},
     "output_type": "execute_result"
    }
   ],
   "source": [
    "A = zeros(length(data2[:size]), 4)"
   ]
  },
  {
   "cell_type": "code",
   "execution_count": 35,
   "metadata": {},
   "outputs": [
    {
     "data": {
      "text/plain": [
       "15-element Array{Float64,1}:\n",
       " 0.00024014769999999998\n",
       " 0.0016178338          \n",
       " 0.0019664978          \n",
       " 0.004244504           \n",
       " 0.0080576229          \n",
       " 0.0137404852          \n",
       " 0.022097399           \n",
       " 0.0368226552          \n",
       " 0.058389222500000004  \n",
       " 0.0740835239          \n",
       " 0.0990365339          \n",
       " 0.1309728529          \n",
       " 0.16804370890000003   \n",
       " 0.2157794246          \n",
       " 0.25534797340000004   "
      ]
     },
     "execution_count": 35,
     "metadata": {},
     "output_type": "execute_result"
    }
   ],
   "source": [
    "x=data2[:size]\n",
    "y=data2[:naive_times_mean]"
   ]
  },
  {
   "cell_type": "code",
   "execution_count": 36,
   "metadata": {},
   "outputs": [
    {
     "data": {
      "text/plain": [
       "15-element Array{Float64,1}:\n",
       " 1.0\n",
       " 1.0\n",
       " 1.0\n",
       " 1.0\n",
       " 1.0\n",
       " 1.0\n",
       " 1.0\n",
       " 1.0\n",
       " 1.0\n",
       " 1.0\n",
       " 1.0\n",
       " 1.0\n",
       " 1.0\n",
       " 1.0\n",
       " 1.0"
      ]
     },
     "execution_count": 36,
     "metadata": {},
     "output_type": "execute_result"
    }
   ],
   "source": [
    "A[:,1]=x.^3\n",
    "A[:,2]=x.^2\n",
    "A[:,3]=x\n",
    "A[:,4]=ones(length(data2[:size]))"
   ]
  },
  {
   "cell_type": "code",
   "execution_count": 37,
   "metadata": {},
   "outputs": [
    {
     "name": "stdout",
     "output_type": "stream",
     "text": [
      "[0.00305674, -7.45137e-5, 3.32521e-7, 4.49079e-9]\n",
      "[0.00305674, -7.45137e-5, 3.32521e-7, 4.49079e-9]\n",
      "Poly(0.0030567402386081455 - 7.451374235460676e-5*x + 3.325210510766445e-7*x^2 + 4.490785309334662e-9*x^3)\n"
     ]
    }
   ],
   "source": [
    "using LinearAlgebra\n",
    "\n",
    "AF = factorize(A)\n",
    "println(reverse(AF.R\\((Transpose(AF.Q)*y)[1:4])))\n",
    "println(reverse(A\\y))\n",
    "println(naive_fit_c)"
   ]
  },
  {
   "cell_type": "code",
   "execution_count": 1,
   "metadata": {},
   "outputs": [
    {
     "data": {
      "text/plain": [
       "my_eigen (generic function with 1 method)"
      ]
     },
     "execution_count": 1,
     "metadata": {},
     "output_type": "execute_result"
    }
   ],
   "source": [
    "using LinearAlgebra\n",
    "using Statistics\n",
    "\n",
    "function my_eigen(A)\n",
    "    n = length(A[:,1])\n",
    "    \n",
    "    last_diagonal = zeros(n)\n",
    "    eigen_vectors = Matrix(I, n, n)\n",
    "    \n",
    "    kill_switch = 0\n",
    "    while kill_switch < 10\n",
    "        kill_switch += 1\n",
    "        \n",
    "        AF=qr(A)\n",
    "        A=AF.R*AF.Q\n",
    "        \n",
    "        eigen_vectors *= AF.Q\n",
    "        \n",
    "        max_diff = -1\n",
    "\n",
    "        for k=1:length(A[:,1])\n",
    "            max_diff = max(abs(abs(last_diagonal[k]) - abs(A[k, k])), max_diff)\n",
    "            last_diagonal[k] = A[k ,k]\n",
    "        end\n",
    "\n",
    "        if max_diff < 10e-9\n",
    "            break\n",
    "        end\n",
    "    end\n",
    "    return Dict(\"values\"=>last_diagonal, \"vectors\"=>eigen_vectors)\n",
    "end\n"
   ]
  },
  {
   "cell_type": "code",
   "execution_count": 4,
   "metadata": {},
   "outputs": [
    {
     "name": "stdout",
     "output_type": "stream",
     "text": [
      "[2 -1 -1 0; -1 3 -1 -1; -1 -1 3 -1; 0 -1 -1 2]\n"
     ]
    }
   ],
   "source": [
    "using LinearAlgebra\n",
    "using Statistics\n",
    "\n",
    "Test = [2 -1 -1 0; -1 3 -1 -1; -1 -1 3 -1; 0 -1 -1 2]\n",
    "println(Test)"
   ]
  },
  {
   "cell_type": "code",
   "execution_count": 5,
   "metadata": {},
   "outputs": [
    {
     "data": {
      "text/plain": [
       "4-element Array{Float64,1}:\n",
       " 4.0\n",
       " 4.0\n",
       " 2.0\n",
       " 0.0"
      ]
     },
     "execution_count": 5,
     "metadata": {},
     "output_type": "execute_result"
    }
   ],
   "source": [
    "map(x -> round(x * 100)/100, my_eigen(Test)[\"values\"])"
   ]
  },
  {
   "cell_type": "code",
   "execution_count": 6,
   "metadata": {},
   "outputs": [
    {
     "data": {
      "text/plain": [
       "4-element Array{Float64,1}:\n",
       " 0.0\n",
       " 2.0\n",
       " 4.0\n",
       " 4.0"
      ]
     },
     "execution_count": 6,
     "metadata": {},
     "output_type": "execute_result"
    }
   ],
   "source": [
    "map(x -> round(x * 100)/100, eigvals(Test))"
   ]
  },
  {
   "cell_type": "code",
   "execution_count": 7,
   "metadata": {},
   "outputs": [
    {
     "data": {
      "text/plain": [
       "4×4 Array{Float64,2}:\n",
       "  0.5   0.0   -0.71  0.5\n",
       " -0.5   0.71   0.0   0.5\n",
       " -0.5  -0.71  -0.0   0.5\n",
       "  0.5  -0.0    0.71  0.5"
      ]
     },
     "execution_count": 7,
     "metadata": {},
     "output_type": "execute_result"
    }
   ],
   "source": [
    "map(x -> round(x * 100)/100, my_eigen(Test)[\"vectors\"])"
   ]
  },
  {
   "cell_type": "code",
   "execution_count": 8,
   "metadata": {},
   "outputs": [
    {
     "data": {
      "text/plain": [
       "4×4 Array{Float64,2}:\n",
       " -0.5   0.71   0.5   0.0 \n",
       " -0.5  -0.0   -0.5   0.71\n",
       " -0.5  -0.0   -0.5  -0.71\n",
       " -0.5  -0.71   0.5   0.0 "
      ]
     },
     "execution_count": 8,
     "metadata": {},
     "output_type": "execute_result"
    }
   ],
   "source": [
    "map(x -> round(x * 100)/100, eigvecs(Test))"
   ]
  },
  {
   "cell_type": "code",
   "execution_count": 2,
   "metadata": {},
   "outputs": [
    {
     "data": {
      "text/plain": [
       "matrix_pow (generic function with 1 method)"
      ]
     },
     "execution_count": 2,
     "metadata": {},
     "output_type": "execute_result"
    }
   ],
   "source": [
    "function matrix_pow(A, a)\n",
    "    eigen_ = my_eigen(A)\n",
    "    eigen_values = eigen_[\"values\"]\n",
    "    eigen_vectors = eigen_[\"vectors\"]\n",
    "    \n",
    "    n=length(eigen_values)\n",
    "    \n",
    "    diagonal_matrix = zeros(n, n)\n",
    "    \n",
    "    for k=1:n\n",
    "        diagonal_matrix[k ,k]=eigen_values[k]^a\n",
    "    end\n",
    "    \n",
    "    A=eigen_vectors*diagonal_matrix*inv(eigen_vectors)\n",
    "    \n",
    "    return A\n",
    "end"
   ]
  },
  {
   "cell_type": "code",
   "execution_count": 17,
   "metadata": {},
   "outputs": [
    {
     "data": {
      "text/plain": [
       "4×4 Array{Float64,2}:\n",
       "  20.0  -16.0  -16.0   12.0\n",
       " -16.0   48.0  -16.0  -16.0\n",
       " -16.0  -16.0   48.0  -16.0\n",
       "  12.0  -16.0  -16.0   20.0"
      ]
     },
     "execution_count": 17,
     "metadata": {},
     "output_type": "execute_result"
    }
   ],
   "source": [
    "map(x->round(x), matrix_pow(Test, 3))"
   ]
  },
  {
   "cell_type": "code",
   "execution_count": 18,
   "metadata": {},
   "outputs": [
    {
     "data": {
      "text/plain": [
       "4×4 Array{Int64,2}:\n",
       "  20  -16  -16   12\n",
       " -16   48  -16  -16\n",
       " -16  -16   48  -16\n",
       "  12  -16  -16   20"
      ]
     },
     "execution_count": 18,
     "metadata": {},
     "output_type": "execute_result"
    }
   ],
   "source": [
    "Test^3"
   ]
  }
 ],
 "metadata": {
  "kernelspec": {
   "display_name": "Julia 1.0.3 (4 threads)",
   "language": "julia",
   "name": "julia-1.0k"
  },
  "language_info": {
   "file_extension": ".jl",
   "mimetype": "application/julia",
   "name": "julia",
   "version": "1.0.3"
  }
 },
 "nbformat": 4,
 "nbformat_minor": 2
}
