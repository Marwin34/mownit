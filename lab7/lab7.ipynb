{
 "cells": [
  {
   "cell_type": "code",
   "execution_count": null,
   "metadata": {},
   "outputs": [],
   "source": [
    "Pkg.add(\"Roots\")\n",
    "Pkg.add(\"ForwardDiff\")"
   ]
  },
  {
   "cell_type": "code",
   "execution_count": null,
   "metadata": {},
   "outputs": [],
   "source": [
    "using Roots  \n",
    "using Plots\n",
    "using ForwardDiff"
   ]
  },
  {
   "cell_type": "code",
   "execution_count": null,
   "metadata": {},
   "outputs": [],
   "source": [
    "f1(x) = sin(x) - x/2\n",
    "f2(x) = 2*x-exp(-x)\n",
    "f3(x) = x * exp(-x)\n",
    "f4(x) = ( x + 3 ) * ( x - 1 )^2\n",
    "f5(x) = x^3\n",
    "f6(x) = cos(x) - x"
   ]
  },
  {
   "cell_type": "code",
   "execution_count": null,
   "metadata": {},
   "outputs": [],
   "source": [
    "b_x_1 = find_zero(f1, (0, 1), Bisection(), verbose=true)\n",
    "b_x_2 = find_zero(f2, (0, 1), Bisection(), verbose=true)\n",
    "b_x_3 = find_zero(f3, (0, 1), Bisection(), verbose=true)\n",
    "b_x_4 = find_zero(f4, (0, 1), Bisection(), verbose=true)\n",
    "b_x_5 = find_zero(f5, (0, 1), Bisection(), verbose=true)\n",
    "b_x_6 = find_zero(f6, (0, 1), Bisection(), verbose=true)"
   ]
  },
  {
   "cell_type": "code",
   "execution_count": null,
   "metadata": {},
   "outputs": [],
   "source": [
    "D(f1) = x->ForwardDiff.derivative(f1, float(x))\n",
    "D(f2) = x->ForwardDiff.derivative(f2, float(x))\n",
    "D(f3) = x->ForwardDiff.derivative(f3, float(x))\n",
    "D(f4) = x->ForwardDiff.derivative(f4, float(x))\n",
    "D(f5) = x->ForwardDiff.derivative(f5, float(x))\n",
    "D(f6) = x->ForwardDiff.derivative(f6, float(x))\n",
    "\n",
    "n_x_1 = find_zero((f1, D(f1)),0, Roots.Newton(),verbose=true)\n",
    "n_x_2 = find_zero((f2, D(f2)),0, Roots.Newton(),verbose=true)\n",
    "n_x_3 = find_zero((f3, D(f3)),0, Roots.Newton(),verbose=true)\n",
    "n_x_4 = find_zero((f4, D(f4)),0, Roots.Newton(),verbose=true)\n",
    "n_x_5 = find_zero((f5, D(f5)),0, Roots.Newton(),verbose=true)\n",
    "n_x_6 = find_zero((f6, D(f6)),0, Roots.Newton(),verbose=true)"
   ]
  },
  {
   "cell_type": "code",
   "execution_count": null,
   "metadata": {},
   "outputs": [],
   "source": [
    "s_x_1 = find_zero(f1, 0, Order1(),  verbose=true)\n",
    "s_x_2 = find_zero(f2, 0, Order1(),  verbose=true)\n",
    "s_x_3 = find_zero(f3, 0, Order1(),  verbose=true)\n",
    "s_x_4 = find_zero(f4, 0, Order1(),  verbose=true)\n",
    "s_x_5 = find_zero(f5, 0, Order1(),  verbose=true)\n",
    "s_x_6 = find_zero(f6, 0, Order1(),  verbose=true)"
   ]
  },
  {
   "cell_type": "code",
   "execution_count": null,
   "metadata": {},
   "outputs": [],
   "source": [
    "function test(g::Function, x)\n",
    "    return (g(prevfloat(x)) * g(x) < 0.0 || g(x) * g(nextfloat(x)) < 0.0 \n",
    "        || abs(g(x)) <= 1e-15 || sign(g(prevfloat(x))) *sign(g(nextfloat(x))) <= 0)\n",
    "end"
   ]
  },
  {
   "cell_type": "code",
   "execution_count": null,
   "metadata": {},
   "outputs": [],
   "source": [
    "using DataFrames\n",
    "\n",
    "df = DataFrame(f_x = [\"sin(x) - x/2\", \"2*x-exp(-x)\", \"x * exp(-x)\", \"(x + 3) * (x - 1)^2\", \n",
    "        \"x^3\", \"cos(x) - x\"],\n",
    "    iterations_bisection = [0, 61, 0, 0, 0, 60],\n",
    "    evaluations_bisection = [2, 63, 2, 2, 2, 62],\n",
    "    test_b_x = [test(f1, b_x_1), test(f2, b_x_2), test(f3, b_x_3), \n",
    "    test(f4, b_x_4), test(f5, b_x_5), test(f6, b_x_6)],\n",
    "    iterations_newton = [0, 4, 0, 26, 0, 5],\n",
    "    evaluations_newton = [1, 9, 1, 53, 1, 11],\n",
    "    test_n_x = [test(f1, n_x_1), test(f2, n_x_2), test(f3, n_x_3), \n",
    "    test(f4, n_x_4), test(f5, n_x_5), test(f6, n_x_6)],\n",
    "    iterations_secant_method = [0, 5, 0, 37, 0, 7],\n",
    "    evaluations_secant_method = [2, 7, 2, 39, 2, 9],\n",
    "    test_s_x = [test(f1, s_x_1), test(f2, s_x_2), test(f3, s_x_3), \n",
    "    test(f4, s_x_4), test(f5, s_x_5), test(f6, s_x_6)],)"
   ]
  },
  {
   "cell_type": "code",
   "execution_count": null,
   "metadata": {},
   "outputs": [],
   "source": [
    "using Plots\n",
    "\n",
    "plot(x->cos(x) - x, 0, 1)"
   ]
  },
  {
   "cell_type": "code",
   "execution_count": null,
   "metadata": {},
   "outputs": [],
   "source": [
    "# bisekcja nie zadziała\n",
    "f_n_b(x) = x^2\n",
    "\n",
    "plot(x->f_n_b(x), -1, 1)"
   ]
  },
  {
   "cell_type": "code",
   "execution_count": null,
   "metadata": {},
   "outputs": [],
   "source": [
    "x_b = find_zero(f_n_b, (-1, 1), Bisection(), verbose=true)"
   ]
  },
  {
   "cell_type": "code",
   "execution_count": null,
   "metadata": {},
   "outputs": [],
   "source": [
    "# newton nie zadziała\n",
    "f_n_n(x) = 1-x^2\n",
    "\n",
    "plot(x->f_n_n(x), -1 ,2)"
   ]
  },
  {
   "cell_type": "code",
   "execution_count": null,
   "metadata": {},
   "outputs": [],
   "source": [
    "D(f_n_n) = x->ForwardDiff.derivative(f_n_n, float(x))\n",
    "\n",
    "plot(D(f_n_n), -1 ,2)"
   ]
  },
  {
   "cell_type": "code",
   "execution_count": null,
   "metadata": {},
   "outputs": [],
   "source": [
    "n_x = find_zero((f_n_n, D(f_n_n)),0, Roots.Newton(),verbose=true)\n"
   ]
  },
  {
   "cell_type": "code",
   "execution_count": null,
   "metadata": {},
   "outputs": [],
   "source": [
    "# przewidywanie nie zadziała (metoda siecznych)\n",
    "\n",
    "f_n_s(x) = x^3 - 20\n",
    "plot(f_n_s, 0, 4)"
   ]
  },
  {
   "cell_type": "code",
   "execution_count": null,
   "metadata": {},
   "outputs": [],
   "source": [
    "s_x = find_zero(f_n_s, 0, Order1(),  verbose=true)"
   ]
  },
  {
   "cell_type": "code",
   "execution_count": null,
   "metadata": {},
   "outputs": [],
   "source": [
    "# wstęga newtona\n",
    "\n",
    "using Images\n",
    "\n",
    "f_n_N(x) = x^3-1\n",
    "d_f_n_N(x) = 3 * x^2"
   ]
  },
  {
   "cell_type": "code",
   "execution_count": null,
   "metadata": {},
   "outputs": [],
   "source": [
    "function color(i, shade)\n",
    "    value = 0.55 - shade * 1/25\n",
    "    colors = [RGB(1, value, value), RGB(value, 1, value),RGB(value, value, 1)]\n",
    "    return colors[i]\n",
    "end"
   ]
  },
  {
   "cell_type": "code",
   "execution_count": null,
   "metadata": {},
   "outputs": [],
   "source": [
    "function roots(i)\n",
    "    roots = [(1 + 0im), (-.5 + sqrt(3)/2im), (-.5 - sqrt(3)/2im)]\n",
    "    return roots[i]\n",
    "end"
   ]
  },
  {
   "cell_type": "code",
   "execution_count": null,
   "metadata": {},
   "outputs": [],
   "source": [
    "function fractal()\n",
    "    image = zeros(RGB, 512 ,512)\n",
    "    for x=1:512\n",
    "        x_s = -2.5 + x * 3.5/512\n",
    "        for y=1:512\n",
    "            y_s = -1 + y * 2/512\n",
    "            z = (x_s + y_s * im)\n",
    "            \n",
    "            found = false\n",
    "            for i=1:150\n",
    "                z -= f_n_N(z) / d_f_n_N(z)\n",
    "                \n",
    "                tolerance = 0.000001\n",
    "                \n",
    "                for j=1:3\n",
    "                    difference = z - roots(j)\n",
    "                    if abs(difference) < tolerance\n",
    "                        image[y,x] = color(j, i)\n",
    "                        found = true\n",
    "                    end\n",
    "                end\n",
    "                \n",
    "                if found\n",
    "                    break\n",
    "                end\n",
    "            end\n",
    "        end\n",
    "    end\n",
    "    return image\n",
    "end"
   ]
  },
  {
   "cell_type": "code",
   "execution_count": 21,
   "metadata": {},
   "outputs": [
    {
     "data": {
      "image/png": "[encoded data removed]",
      "text/plain": [
       "512×512 Array{RGB{Any},2} with eltype RGB:\n",
       " RGB{Float64}(0.27,1.0,0.27)  …  RGB{Float64}(1.0,0.27,0.27)\n",
       " RGB{Float64}(0.27,1.0,0.27)     RGB{Float64}(1.0,0.27,0.27)\n",
       " RGB{Float64}(0.27,1.0,0.27)     RGB{Float64}(1.0,0.27,0.27)\n",
       " RGB{Float64}(0.27,1.0,0.27)     RGB{Float64}(1.0,0.27,0.27)\n",
       " RGB{Float64}(0.27,1.0,0.27)     RGB{Float64}(1.0,0.27,0.27)\n",
       " RGB{Float64}(0.27,1.0,0.27)  …  RGB{Float64}(1.0,0.27,0.27)\n",
       " RGB{Float64}(0.27,1.0,0.27)     RGB{Float64}(1.0,0.27,0.27)\n",
       " RGB{Float64}(0.27,1.0,0.27)     RGB{Float64}(1.0,0.27,0.27)\n",
       " RGB{Float64}(0.27,1.0,0.27)     RGB{Float64}(1.0,0.27,0.27)\n",
       " RGB{Float64}(0.27,1.0,0.27)     RGB{Float64}(1.0,0.27,0.27)\n",
       " RGB{Float64}(0.27,1.0,0.27)  …  RGB{Float64}(1.0,0.27,0.27)\n",
       " RGB{Float64}(0.27,1.0,0.27)     RGB{Float64}(1.0,0.27,0.27)\n",
       " RGB{Float64}(0.27,1.0,0.27)     RGB{Float64}(1.0,0.27,0.27)\n",
       " ⋮                            ⋱                             \n",
       " RGB{Float64}(0.27,0.27,1.0)  …  RGB{Float64}(1.0,0.27,0.27)\n",
       " RGB{Float64}(0.27,0.27,1.0)     RGB{Float64}(1.0,0.27,0.27)\n",
       " RGB{Float64}(0.27,0.27,1.0)     RGB{Float64}(1.0,0.27,0.27)\n",
       " RGB{Float64}(0.27,0.27,1.0)     RGB{Float64}(1.0,0.27,0.27)\n",
       " RGB{Float64}(0.27,0.27,1.0)     RGB{Float64}(1.0,0.27,0.27)\n",
       " RGB{Float64}(0.27,0.27,1.0)  …  RGB{Float64}(1.0,0.27,0.27)\n",
       " RGB{Float64}(0.27,0.27,1.0)     RGB{Float64}(1.0,0.27,0.27)\n",
       " RGB{Float64}(0.27,0.27,1.0)     RGB{Float64}(1.0,0.27,0.27)\n",
       " RGB{Float64}(0.27,0.27,1.0)     RGB{Float64}(1.0,0.27,0.27)\n",
       " RGB{Float64}(0.27,0.27,1.0)     RGB{Float64}(1.0,0.27,0.27)\n",
       " RGB{Float64}(0.27,0.27,1.0)  …  RGB{Float64}(1.0,0.27,0.27)\n",
       " RGB{Float64}(0.27,0.27,1.0)     RGB{Float64}(1.0,0.27,0.27)"
      ]
     },
     "execution_count": 21,
     "metadata": {},
     "output_type": "execute_result"
    }
   ],
   "source": [
    "fractal()"
   ]
  },
  {
   "cell_type": "markdown",
   "metadata": {},
   "source": [
    "fractal(1)"
   ]
  },
  {
   "cell_type": "code",
   "execution_count": 32,
   "metadata": {},
   "outputs": [
    {
     "data": {
      "text/plain": [
       "-3.75e-5"
      ]
     },
     "execution_count": 32,
     "metadata": {},
     "output_type": "execute_result"
    }
   ],
   "source": [
    "-1.5*10^6/(4*10^10)"
   ]
  },
  {
   "cell_type": "code",
   "execution_count": null,
   "metadata": {},
   "outputs": [],
   "source": []
  }
 ],
 "metadata": {
  "kernelspec": {
   "display_name": "Julia 1.0.3 (4 threads)",
   "language": "julia",
   "name": "julia-1.0k"
  },
  "language_info": {
   "file_extension": ".jl",
   "mimetype": "application/julia",
   "name": "julia",
   "version": "1.0.3"
  }
 },
 "nbformat": 4,
 "nbformat_minor": 2
}
